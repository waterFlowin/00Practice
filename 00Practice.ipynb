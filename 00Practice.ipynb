{
  "nbformat": 4,
  "nbformat_minor": 0,
  "metadata": {
    "colab": {
      "name": "00Practice.ipynb",
      "version": "0.3.2",
      "provenance": [],
      "toc_visible": true,
      "include_colab_link": true
    },
    "kernelspec": {
      "name": "python3",
      "display_name": "Python 3"
    }
  },
  "cells": [
    {
      "cell_type": "markdown",
      "metadata": {
        "id": "view-in-github",
        "colab_type": "text"
      },
      "source": [
        "<a href=\"https://colab.research.google.com/github/waterFlowin/00Practice/blob/master/00Practice.ipynb\" target=\"_parent\"><img src=\"https://colab.research.google.com/assets/colab-badge.svg\" alt=\"Open In Colab\"/></a>"
      ]
    },
    {
      "metadata": {
        "id": "5ttQ8dpaVmIk",
        "colab_type": "text"
      },
      "cell_type": "markdown",
      "source": [
        "Everything is minimum 1 minute up to 20 minutes spent on topic/area.\n",
        "\n",
        "Concept is to cycle through all topics, thats 1 rep. Either Read, Listen, Watch, Do something per topic.\n",
        "Start with 1 topic per day.\n",
        "\n",
        "Basically Internet Study, Solo or Together\n",
        "Camera Optional\n",
        "\n",
        "Foundational Areas\n",
        "- Programming\n",
        "- Math\n",
        "- ML\n",
        "- DS\n",
        "- CS\n",
        "- Security\n",
        "\n",
        "Everyday\n",
        "- do at least 1 minute of SQL exercises\n",
        "- read 1 research papers intro & conclusion that are related topics\n",
        "\n",
        "Record minutes studied in relative DataFrame below\n",
        "\n",
        "Optional Team Activities\n",
        "- Build Concept Map\n",
        "- Read Aloud 1 Glossary term per Student\n",
        "- Google-Fu with each other on chosen topic. Read aloud what was learned during 1-20 minute session\n",
        "\n",
        "\n",
        "Goals.\n",
        "- To know every topic and subtopic built here and reviewed in 20 minutes or less Every Day. Or until personal goals are achieved.\n",
        "- Make an audio recorded review, updated as needed."
      ]
    },
    {
      "metadata": {
        "id": "8ZkeStJ1Vdqb",
        "colab_type": "text"
      },
      "cell_type": "markdown",
      "source": [
        "# Concept Map"
      ]
    },
    {
      "metadata": {
        "id": "OvgSDB5LVgEp",
        "colab_type": "text"
      },
      "cell_type": "markdown",
      "source": [
        "https://www.mindmeister.com/1201664301"
      ]
    },
    {
      "metadata": {
        "id": "MZZyO7VKZ-OR",
        "colab_type": "text"
      },
      "cell_type": "markdown",
      "source": [
        "# Glossary and Glossary C.M."
      ]
    },
    {
      "metadata": {
        "id": "Jefv3cTXaDYc",
        "colab_type": "text"
      },
      "cell_type": "markdown",
      "source": [
        "https://www.mindmeister.com/1203973655"
      ]
    },
    {
      "metadata": {
        "id": "dXfMTdT264p-",
        "colab_type": "text"
      },
      "cell_type": "markdown",
      "source": [
        "# Python"
      ]
    },
    {
      "metadata": {
        "id": "IBWqzhKkSbTy",
        "colab_type": "text"
      },
      "cell_type": "markdown",
      "source": [
        "Sources\n",
        "- https://www.w3schools.com/python/"
      ]
    },
    {
      "metadata": {
        "id": "oy-q3DoS68B2",
        "colab_type": "code",
        "colab": {}
      },
      "cell_type": "code",
      "source": [
        "# Python Libraries\n",
        "import pandas as pd"
      ],
      "execution_count": 0,
      "outputs": []
    },
    {
      "metadata": {
        "id": "wp9N4zXj3oY2",
        "colab_type": "code",
        "colab": {}
      },
      "cell_type": "code",
      "source": [
        "# DataFrame for minutes spent on what material\n",
        "df_python = pd.DataFrame({\n",
        "    \"Date\":              [11719,11819,11919],\n",
        "    \"w3schoolsExercises\":[10,1,10],\n",
        "    \"learnpython.org\":   [0,0,1]})\n",
        "\n",
        "df_python = df_python.set_index(\"Date\")"
      ],
      "execution_count": 0,
      "outputs": []
    },
    {
      "metadata": {
        "id": "WBien72z5PRS",
        "colab_type": "code",
        "outputId": "9108b71f-a1c1-4b40-ba08-58137c385f5b",
        "colab": {
          "base_uri": "https://localhost:8080/",
          "height": 173
        }
      },
      "cell_type": "code",
      "source": [
        "# Show DataFrame\n",
        "df_python"
      ],
      "execution_count": 13,
      "outputs": [
        {
          "output_type": "execute_result",
          "data": {
            "text/html": [
              "<div>\n",
              "<style scoped>\n",
              "    .dataframe tbody tr th:only-of-type {\n",
              "        vertical-align: middle;\n",
              "    }\n",
              "\n",
              "    .dataframe tbody tr th {\n",
              "        vertical-align: top;\n",
              "    }\n",
              "\n",
              "    .dataframe thead th {\n",
              "        text-align: right;\n",
              "    }\n",
              "</style>\n",
              "<table border=\"1\" class=\"dataframe\">\n",
              "  <thead>\n",
              "    <tr style=\"text-align: right;\">\n",
              "      <th></th>\n",
              "      <th>learnpython.org</th>\n",
              "      <th>w3schoolsExercises</th>\n",
              "    </tr>\n",
              "    <tr>\n",
              "      <th>Date</th>\n",
              "      <th></th>\n",
              "      <th></th>\n",
              "    </tr>\n",
              "  </thead>\n",
              "  <tbody>\n",
              "    <tr>\n",
              "      <th>11719</th>\n",
              "      <td>0</td>\n",
              "      <td>10</td>\n",
              "    </tr>\n",
              "    <tr>\n",
              "      <th>11819</th>\n",
              "      <td>0</td>\n",
              "      <td>1</td>\n",
              "    </tr>\n",
              "    <tr>\n",
              "      <th>11919</th>\n",
              "      <td>1</td>\n",
              "      <td>10</td>\n",
              "    </tr>\n",
              "  </tbody>\n",
              "</table>\n",
              "</div>"
            ],
            "text/plain": [
              "       learnpython.org  w3schoolsExercises\n",
              "Date                                      \n",
              "11719                0                  10\n",
              "11819                0                   1\n",
              "11919                1                  10"
            ]
          },
          "metadata": {
            "tags": []
          },
          "execution_count": 13
        }
      ]
    },
    {
      "metadata": {
        "id": "988oyelb7IJJ",
        "colab_type": "text"
      },
      "cell_type": "markdown",
      "source": [
        "# SQL"
      ]
    },
    {
      "metadata": {
        "id": "ysXcAQkqSoId",
        "colab_type": "text"
      },
      "cell_type": "markdown",
      "source": [
        "Sources\n",
        "- https://www.w3schools.com/sql/\n",
        "- https://sqlzoo.net/"
      ]
    },
    {
      "metadata": {
        "id": "bGQsavKlRVbG",
        "colab_type": "code",
        "colab": {}
      },
      "cell_type": "code",
      "source": [
        "# DataFrame for minutes spent on what material\n",
        "df_SQL = pd.DataFrame({\n",
        "    \"Date\":              [11719,11819,11919],\n",
        "    \"w3schoolsExercises\":[10,7,10]})\n",
        "\n",
        "df_SQL = df_SQL.set_index(\"Date\")"
      ],
      "execution_count": 0,
      "outputs": []
    },
    {
      "metadata": {
        "id": "hwEJ0JUCQ6yn",
        "colab_type": "text"
      },
      "cell_type": "markdown",
      "source": [
        "# Data Set"
      ]
    },
    {
      "metadata": {
        "id": "w3Iik0enRaei",
        "colab_type": "code",
        "colab": {}
      },
      "cell_type": "code",
      "source": [
        "# DataFrame for minutes spent on what material\n",
        "df = pd.DataFrame({\n",
        "    \"Date\":       [],\n",
        "    \"DidOneThing\":[]})\n",
        "\n",
        "df = df.set_index(\"Date\")"
      ],
      "execution_count": 0,
      "outputs": []
    },
    {
      "metadata": {
        "id": "knjD0mj0Q95t",
        "colab_type": "text"
      },
      "cell_type": "markdown",
      "source": [
        "# ML"
      ]
    },
    {
      "metadata": {
        "id": "0EzC9nXcg_Al",
        "colab_type": "text"
      },
      "cell_type": "markdown",
      "source": [
        "Sources"
      ]
    },
    {
      "metadata": {
        "id": "UKnt__j7RBTm",
        "colab_type": "code",
        "colab": {}
      },
      "cell_type": "code",
      "source": [
        ""
      ],
      "execution_count": 0,
      "outputs": []
    },
    {
      "metadata": {
        "id": "laknzrX5RBzq",
        "colab_type": "text"
      },
      "cell_type": "markdown",
      "source": [
        "# DS"
      ]
    },
    {
      "metadata": {
        "id": "FB0YVaSWhASu",
        "colab_type": "text"
      },
      "cell_type": "markdown",
      "source": [
        "Sources"
      ]
    },
    {
      "metadata": {
        "id": "dRSMKIFNRC25",
        "colab_type": "code",
        "colab": {}
      },
      "cell_type": "code",
      "source": [
        ""
      ],
      "execution_count": 0,
      "outputs": []
    },
    {
      "metadata": {
        "id": "OgfjU4bwRDgK",
        "colab_type": "text"
      },
      "cell_type": "markdown",
      "source": [
        "# CS"
      ]
    },
    {
      "metadata": {
        "id": "EE4ztlIahBsB",
        "colab_type": "text"
      },
      "cell_type": "markdown",
      "source": [
        "Sources"
      ]
    },
    {
      "metadata": {
        "id": "3akgQbPNRE0B",
        "colab_type": "code",
        "colab": {}
      },
      "cell_type": "code",
      "source": [
        ""
      ],
      "execution_count": 0,
      "outputs": []
    },
    {
      "metadata": {
        "id": "GLTEL_JaRF7E",
        "colab_type": "text"
      },
      "cell_type": "markdown",
      "source": [
        "# Math"
      ]
    },
    {
      "metadata": {
        "id": "qiQ4JtSjhCrz",
        "colab_type": "text"
      },
      "cell_type": "markdown",
      "source": [
        "Sources"
      ]
    },
    {
      "metadata": {
        "id": "5a8i9o_yRHlW",
        "colab_type": "code",
        "colab": {}
      },
      "cell_type": "code",
      "source": [
        ""
      ],
      "execution_count": 0,
      "outputs": []
    },
    {
      "metadata": {
        "id": "sM02-x8FRH7I",
        "colab_type": "text"
      },
      "cell_type": "markdown",
      "source": [
        "# Security"
      ]
    },
    {
      "metadata": {
        "id": "FnfLCccqhG4p",
        "colab_type": "text"
      },
      "cell_type": "markdown",
      "source": [
        "Sources\n",
        "- https://www.hackerone.com/hacker101"
      ]
    },
    {
      "metadata": {
        "id": "zUfdKaojRJzF",
        "colab_type": "code",
        "colab": {}
      },
      "cell_type": "code",
      "source": [
        ""
      ],
      "execution_count": 0,
      "outputs": []
    }
  ]
}