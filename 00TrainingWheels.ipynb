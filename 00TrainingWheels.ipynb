{
  "nbformat": 4,
  "nbformat_minor": 0,
  "metadata": {
    "colab": {
      "name": "00TrainingWheels.ipynb",
      "version": "0.3.2",
      "provenance": [],
      "include_colab_link": true
    },
    "kernelspec": {
      "name": "python3",
      "display_name": "Python 3"
    }
  },
  "cells": [
    {
      "cell_type": "markdown",
      "metadata": {
        "id": "view-in-github",
        "colab_type": "text"
      },
      "source": [
        "<a href=\"https://colab.research.google.com/github/waterFlowin/00Practice/blob/master/00TrainingWheels.ipynb\" target=\"_parent\"><img src=\"https://colab.research.google.com/assets/colab-badge.svg\" alt=\"Open In Colab\"/></a>"
      ]
    },
    {
      "metadata": {
        "id": "EJ5nd5H-nB4E",
        "colab_type": "code",
        "colab": {}
      },
      "cell_type": "code",
      "source": [
        "# Import Python Libraries\n",
        "import pandas as pd"
      ],
      "execution_count": 0,
      "outputs": []
    },
    {
      "metadata": {
        "id": "3TyivpcMnfIg",
        "colab_type": "text"
      },
      "cell_type": "markdown",
      "source": [
        "Sources and Courses\n",
        "- https://www.khanacademy.org/profile/kaid_1198026005233965491895976/\n",
        "- https://www.codecademy.com/learn\n",
        "- https://brilliant.org/daily-problems/\n",
        "- https://www.datacamp.com/\n",
        "- https://www.udemy.com/\n",
        "- https://www.hackerrank.com/dashboard\n",
        "- https://modeanalytics.com/\n",
        "- https://www.hackerone.com/hacker101\n"
      ]
    },
    {
      "metadata": {
        "id": "bnBJRmx2pH8o",
        "colab_type": "code",
        "colab": {}
      },
      "cell_type": "code",
      "source": [
        "df_executed = pd.DataFrame({\n",
        "    \"Date\":      [11819,11919],\n",
        "    \"KhanPython\":[0,6]})\n",
        "\n",
        "\n",
        "import numpy as np"
      ],
      "execution_count": 0,
      "outputs": []
    },
    {
      "metadata": {
        "id": "PSfwc725qFSC",
        "colab_type": "code",
        "colab": {}
      },
      "cell_type": "code",
      "source": [
        ""
      ],
      "execution_count": 0,
      "outputs": []
    }
  ]
}