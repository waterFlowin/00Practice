{
  "nbformat": 4,
  "nbformat_minor": 0,
  "metadata": {
    "colab": {
      "name": "00Practice.ipynb",
      "version": "0.3.2",
      "provenance": [],
      "include_colab_link": true
    },
    "kernelspec": {
      "name": "python3",
      "display_name": "Python 3"
    }
  },
  "cells": [
    {
      "cell_type": "markdown",
      "metadata": {
        "id": "view-in-github",
        "colab_type": "text"
      },
      "source": [
        "<a href=\"https://colab.research.google.com/github/waterFlowin/00Practice/blob/master/00Practice.ipynb\" target=\"_parent\"><img src=\"https://colab.research.google.com/assets/colab-badge.svg\" alt=\"Open In Colab\"/></a>"
      ]
    },
    {
      "metadata": {
        "id": "dXfMTdT264p-",
        "colab_type": "text"
      },
      "cell_type": "markdown",
      "source": [
        "# Python"
      ]
    },
    {
      "metadata": {
        "id": "oy-q3DoS68B2",
        "colab_type": "code",
        "colab": {}
      },
      "cell_type": "code",
      "source": [
        "# Python Libraries\n",
        "import pandas as pd"
      ],
      "execution_count": 0,
      "outputs": []
    },
    {
      "metadata": {
        "id": "wp9N4zXj3oY2",
        "colab_type": "code",
        "colab": {}
      },
      "cell_type": "code",
      "source": [
        "# DataFrame for minutes spent on what material\n",
        "df_python = pd.DataFrame({\n",
        "    \"Date\":              [11719],\n",
        "    \"w3schoolsExercises\":[10]})\n",
        "\n",
        "df_python = df_python.set_index(\"Date\")"
      ],
      "execution_count": 0,
      "outputs": []
    },
    {
      "metadata": {
        "id": "WBien72z5PRS",
        "colab_type": "code",
        "colab": {
          "base_uri": "https://localhost:8080/",
          "height": 111
        },
        "outputId": "9c64c6d0-0cec-49e6-9df5-6d3e5e441266"
      },
      "cell_type": "code",
      "source": [
        "# Show DataFrame\n",
        "df_python"
      ],
      "execution_count": 13,
      "outputs": [
        {
          "output_type": "execute_result",
          "data": {
            "text/html": [
              "<div>\n",
              "<style scoped>\n",
              "    .dataframe tbody tr th:only-of-type {\n",
              "        vertical-align: middle;\n",
              "    }\n",
              "\n",
              "    .dataframe tbody tr th {\n",
              "        vertical-align: top;\n",
              "    }\n",
              "\n",
              "    .dataframe thead th {\n",
              "        text-align: right;\n",
              "    }\n",
              "</style>\n",
              "<table border=\"1\" class=\"dataframe\">\n",
              "  <thead>\n",
              "    <tr style=\"text-align: right;\">\n",
              "      <th></th>\n",
              "      <th>w3schoolsExercises</th>\n",
              "    </tr>\n",
              "    <tr>\n",
              "      <th>Date</th>\n",
              "      <th></th>\n",
              "    </tr>\n",
              "  </thead>\n",
              "  <tbody>\n",
              "    <tr>\n",
              "      <th>11719</th>\n",
              "      <td>10</td>\n",
              "    </tr>\n",
              "  </tbody>\n",
              "</table>\n",
              "</div>"
            ],
            "text/plain": [
              "       w3schoolsExercises\n",
              "Date                     \n",
              "11719                  10"
            ]
          },
          "metadata": {
            "tags": []
          },
          "execution_count": 13
        }
      ]
    },
    {
      "metadata": {
        "id": "988oyelb7IJJ",
        "colab_type": "text"
      },
      "cell_type": "markdown",
      "source": [
        "# SQL"
      ]
    },
    {
      "metadata": {
        "id": "bGQsavKlRVbG",
        "colab_type": "code",
        "colab": {}
      },
      "cell_type": "code",
      "source": [
        "# DataFrame for minutes spent on what material\n",
        "df_SQL = pd.DataFrame({\n",
        "    \"Date\":              [11719],\n",
        "    \"w3schoolsExercises\":[10]})\n",
        "\n",
        "df_SQL = df_SQL.set_index(\"Date\")"
      ],
      "execution_count": 0,
      "outputs": []
    },
    {
      "metadata": {
        "id": "hwEJ0JUCQ6yn",
        "colab_type": "text"
      },
      "cell_type": "markdown",
      "source": [
        "# Data Set"
      ]
    },
    {
      "metadata": {
        "id": "w3Iik0enRaei",
        "colab_type": "code",
        "colab": {}
      },
      "cell_type": "code",
      "source": [
        "# DataFrame for minutes spent on what material\n",
        "df = pd.DataFrame({\n",
        "    \"Date\":       [11719],\n",
        "    \"DidOneThing\":[0]})\n",
        "\n",
        "df = df.set_index(\"Date\")"
      ],
      "execution_count": 0,
      "outputs": []
    },
    {
      "metadata": {
        "id": "knjD0mj0Q95t",
        "colab_type": "text"
      },
      "cell_type": "markdown",
      "source": [
        "# ML"
      ]
    },
    {
      "metadata": {
        "id": "UKnt__j7RBTm",
        "colab_type": "code",
        "colab": {}
      },
      "cell_type": "code",
      "source": [
        ""
      ],
      "execution_count": 0,
      "outputs": []
    },
    {
      "metadata": {
        "id": "laknzrX5RBzq",
        "colab_type": "text"
      },
      "cell_type": "markdown",
      "source": [
        "# DS"
      ]
    },
    {
      "metadata": {
        "id": "dRSMKIFNRC25",
        "colab_type": "code",
        "colab": {}
      },
      "cell_type": "code",
      "source": [
        ""
      ],
      "execution_count": 0,
      "outputs": []
    },
    {
      "metadata": {
        "id": "OgfjU4bwRDgK",
        "colab_type": "text"
      },
      "cell_type": "markdown",
      "source": [
        "# CS"
      ]
    },
    {
      "metadata": {
        "id": "3akgQbPNRE0B",
        "colab_type": "code",
        "colab": {}
      },
      "cell_type": "code",
      "source": [
        ""
      ],
      "execution_count": 0,
      "outputs": []
    },
    {
      "metadata": {
        "id": "GLTEL_JaRF7E",
        "colab_type": "text"
      },
      "cell_type": "markdown",
      "source": [
        "# Math"
      ]
    },
    {
      "metadata": {
        "id": "5a8i9o_yRHlW",
        "colab_type": "code",
        "colab": {}
      },
      "cell_type": "code",
      "source": [
        ""
      ],
      "execution_count": 0,
      "outputs": []
    },
    {
      "metadata": {
        "id": "sM02-x8FRH7I",
        "colab_type": "text"
      },
      "cell_type": "markdown",
      "source": [
        "# Security"
      ]
    },
    {
      "metadata": {
        "id": "zUfdKaojRJzF",
        "colab_type": "code",
        "colab": {}
      },
      "cell_type": "code",
      "source": [
        ""
      ],
      "execution_count": 0,
      "outputs": []
    }
  ]
}